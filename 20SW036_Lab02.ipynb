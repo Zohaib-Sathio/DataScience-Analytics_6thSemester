{
 "cells": [
  {
   "cell_type": "markdown",
   "metadata": {
    "id": "XzTmq2DoOM-W"
   },
   "source": [
    "# 20SW036 Lab 02"
   ]
  },
  {
   "cell_type": "markdown",
   "metadata": {},
   "source": [
    "### Task 01"
   ]
  },
  {
   "cell_type": "code",
   "execution_count": 1,
   "metadata": {
    "colab": {
     "base_uri": "https://localhost:8080/"
    },
    "id": "KIur8bP8O8L0",
    "outputId": "aae8b780-9c5c-4ca5-cd27-5b5b811a943c"
   },
   "outputs": [
    {
     "name": "stdout",
     "output_type": "stream",
     "text": [
      "Congratulations! You won a wafer-thin mint\n"
     ]
    }
   ],
   "source": [
    "result = \"\"\n",
    "# points = int(input(\"enter your points: \"))\n",
    "points = 174\n",
    "if points < 0 or points > 200:\n",
    "  print(\"\")\n",
    "elif points >= 0 and points <=50:\n",
    "    results = \"wooden rabbit\"\n",
    "elif points >= 51 and points <=150:\n",
    "    results = \"no prize\"\n",
    "elif points >= 151 and points <=180:\n",
    "    results = \"wafer-thin mint\"\n",
    "elif points >= 181 and points <=200:\n",
    "    results = \"penguin\"\n",
    "\n",
    "if results == \"no prize\":\n",
    "  print(\"Oh dear, no prize this time.\")\n",
    "else:\n",
    "  print(f\"Congratulations! You won a {results}\")\n"
   ]
  },
  {
   "cell_type": "markdown",
   "metadata": {},
   "source": [
    "### Task 02"
   ]
  },
  {
   "cell_type": "code",
   "execution_count": 2,
   "metadata": {
    "colab": {
     "base_uri": "https://localhost:8080/"
    },
    "id": "2tFhc2I4R8Gp",
    "outputId": "fabd8fbb-609d-4a64-8640-112eca2d810d"
   },
   "outputs": [
    {
     "name": "stdout",
     "output_type": "stream",
     "text": [
      "enter your guess:29\n",
      "Oops! Your guess was too low.\n",
      "enter your guess:65\n",
      "Oops! Your guess was too high.\n",
      "enter your guess:40\n",
      "Oops! Your guess was too high.\n",
      "enter your guess:35\n",
      "Oops! Your guess was too low.\n",
      "enter your guess:38\n",
      "Oops! Your guess was too high.\n",
      "enter your guess:36\n",
      "Nice! Your guess matched the answer!\n"
     ]
    }
   ],
   "source": [
    "\n",
    "answer = 36\n",
    "while True:\n",
    "  guess = int(input(\"enter your guess:\"))\n",
    "  if guess < answer:\n",
    "    result = \"Oops! Your guess was too low.\"\n",
    "    print(result)\n",
    "  elif guess > answer:\n",
    "    result = \"Oops! Your guess was too high.\"\n",
    "    print(result)\n",
    "  elif guess == answer:\n",
    "    result = \"Nice! Your guess matched the answer!\"\n",
    "    print(result)\n",
    "    break\n"
   ]
  },
  {
   "attachments": {},
   "cell_type": "markdown",
   "metadata": {},
   "source": [
    "### Task 03"
   ]
  },
  {
   "cell_type": "code",
   "execution_count": 3,
   "metadata": {
    "colab": {
     "base_uri": "https://localhost:8080/"
    },
    "id": "dItHKWhuVP0N",
    "outputId": "fdc42fb9-c726-4cf2-840e-7d7992dcb323"
   },
   "outputs": [
    {
     "name": "stdout",
     "output_type": "stream",
     "text": [
      "Enter your purchase amount: 5000\n",
      "enter your state: NY\n",
      "You have to pay 445.0 tax in amount\n"
     ]
    }
   ],
   "source": [
    "purchase_amount = int(input(\"Enter your purchase amount: \"))\n",
    "state = str(input('enter your state: '))\n",
    "\n",
    "if state == \"CA\":\n",
    "  print(f\"You have to pay {(purchase_amount*0.075)} tax in amount\")\n",
    "elif state == \"MN\":\n",
    "  print(f\"You have to pay {(purchase_amount*0.095)} tax in amount\")\n",
    "elif state == \"NY\":\n",
    "  print(f\"You have to pay {(purchase_amount*0.089)} tax in amount\")\n",
    "else:\n",
    "  print(\"You entered wrong state!!!\")"
   ]
  },
  {
   "cell_type": "markdown",
   "metadata": {},
   "source": [
    "### Task 04"
   ]
  },
  {
   "cell_type": "code",
   "execution_count": 4,
   "metadata": {
    "colab": {
     "base_uri": "https://localhost:8080/"
    },
    "id": "8sBm0vTIWj5f",
    "outputId": "7f448c7f-976f-4946-dd7f-aa68e7cf715d"
   },
   "outputs": [
    {
     "name": "stdout",
     "output_type": "stream",
     "text": [
      "the\n",
      "quick\n",
      "brown\n",
      "fox\n",
      "jumped\n",
      "over\n",
      "the\n",
      "lazy\n",
      "dog\n"
     ]
    }
   ],
   "source": [
    "sentence = [\"the\", \"quick\", \"brown\", \"fox\", \"jumped\", \"over\", \"the\",\n",
    "\"lazy\", \"dog\"]\n",
    "for word in sentence:\n",
    "  print(word)"
   ]
  },
  {
   "cell_type": "markdown",
   "metadata": {},
   "source": [
    "### Task 05"
   ]
  },
  {
   "cell_type": "code",
   "execution_count": 5,
   "metadata": {
    "colab": {
     "base_uri": "https://localhost:8080/"
    },
    "id": "zIhAbLftWzDc",
    "outputId": "96c52cf3-e00d-41b4-b65d-68059bf2de50"
   },
   "outputs": [
    {
     "name": "stdout",
     "output_type": "stream",
     "text": [
      "5\n",
      "10\n",
      "15\n",
      "20\n",
      "25\n",
      "30\n"
     ]
    }
   ],
   "source": [
    "for num in range(1, 35):\n",
    "  if num % 5 == 0:\n",
    "    print(num)"
   ]
  },
  {
   "cell_type": "markdown",
   "metadata": {},
   "source": [
    "### Task 06"
   ]
  },
  {
   "cell_type": "code",
   "execution_count": 6,
   "metadata": {
    "colab": {
     "base_uri": "https://localhost:8080/"
    },
    "id": "ajGZCa9UR-PM",
    "outputId": "47d22142-77c9-45c4-b07a-6c92a575d1e6"
   },
   "outputs": [
    {
     "name": "stdout",
     "output_type": "stream",
     "text": [
      "['rick', 'morty', 'summer', 'jerry', 'beth']\n"
     ]
    }
   ],
   "source": [
    "names = [\"Rick Sanchez\", \"Morty Smith\", \"Summer Smith\", \"Jerry Smith\", \"Beth Smith\"]\n",
    "first_names = [name.split(\" \")[0].lower() for name in names]\n",
    "print(first_names)"
   ]
  },
  {
   "cell_type": "markdown",
   "metadata": {},
   "source": [
    "### Task 07"
   ]
  },
  {
   "cell_type": "code",
   "execution_count": 39,
   "metadata": {
    "colab": {
     "base_uri": "https://localhost:8080/"
    },
    "id": "CpjQNPQXUhNS",
    "outputId": "b6a347b6-7029-477e-baf0-b553db174b6e"
   },
   "outputs": [
    {
     "data": {
      "text/plain": [
       "[3, 6, 9, 12, 15, 18, 21, 24, 27, 30, 33, 36, 39, 42, 45, 48, 51, 54, 57, 60]"
      ]
     },
     "execution_count": 39,
     "metadata": {},
     "output_type": "execute_result"
    }
   ],
   "source": [
    "# Task 07\n",
    "multiples_3 = [num for num in range(1,63) if num % 3 == 0]\n",
    "multiples_3"
   ]
  },
  {
   "cell_type": "markdown",
   "metadata": {},
   "source": [
    "### Task 08"
   ]
  },
  {
   "cell_type": "code",
   "execution_count": 43,
   "metadata": {
    "colab": {
     "base_uri": "https://localhost:8080/"
    },
    "id": "7xZNdkzbXq7G",
    "outputId": "c2c98104-6383-465e-dfad-0069b640c4eb"
   },
   "outputs": [
    {
     "name": "stdout",
     "output_type": "stream",
     "text": [
      "['Rick Sanchez', 'Summer Smith', 'Beth Smith']\n"
     ]
    }
   ],
   "source": [
    "# Task 08\n",
    "scores = {\n",
    " \"Rick Sanchez\": 70,\n",
    " \"Morty Smith\": 35,\n",
    " \"Summer Smith\": 82,\n",
    " \"Jerry Smith\": 23,\n",
    " \"Beth Smith\": 98\n",
    " }\n",
    "passed = [score for score in scores if scores[score] >= 65 ]\n",
    "print(passed)"
   ]
  },
  {
   "cell_type": "markdown",
   "metadata": {},
   "source": [
    "### Task 09"
   ]
  },
  {
   "cell_type": "code",
   "execution_count": 8,
   "metadata": {
    "colab": {
     "base_uri": "https://localhost:8080/"
    },
    "id": "7w4p_dIlYvgl",
    "outputId": "34f4bd2d-1501-4c1d-ace4-b164cf8cee7f"
   },
   "outputs": [
    {
     "name": "stdout",
     "output_type": "stream",
     "text": [
      "{'Barney': 72, 'Robin': 68, 'Ted': 72, 'Lily': 66, 'Marshall': 76}\n"
     ]
    }
   ],
   "source": [
    "cast_names = [\"Barney\", \"Robin\", \"Ted\", \"Lily\", \"Marshall\"]\n",
    "cast_heights = [72, 68, 72, 66, 76]\n",
    "cast = {}\n",
    "for name, height in zip(cast_names, cast_heights):\n",
    "  cast[name] = height\n",
    "print(cast)"
   ]
  },
  {
   "cell_type": "markdown",
   "metadata": {},
   "source": [
    "### Task 10"
   ]
  },
  {
   "cell_type": "code",
   "execution_count": 7,
   "metadata": {
    "colab": {
     "base_uri": "https://localhost:8080/"
    },
    "id": "XQMigDc0ZWpC",
    "outputId": "12e995c1-f8e9-4fc6-8d68-f68149522014"
   },
   "outputs": [
    {
     "name": "stdout",
     "output_type": "stream",
     "text": [
      "['Barney Stinson 72', 'Robin Scherbatsky 68', 'Ted Mosby 72', 'Lily Aldrin 66', 'Marshall Eriksen 76']\n"
     ]
    }
   ],
   "source": [
    "cast = [\"Barney Stinson\", \"Robin Scherbatsky\", \"Ted Mosby\",\n",
    "\"Lily Aldrin\", \"Marshall Eriksen\"]\n",
    "heights = [72, 68, 72, 66, 76]\n",
    "for index, height in enumerate(heights):\n",
    "  cast[index] = cast[index] + \" \" + str(height)\n",
    "print(cast)"
   ]
  }
 ],
 "metadata": {
  "colab": {
   "provenance": []
  },
  "kernelspec": {
   "display_name": "Python 3 (ipykernel)",
   "language": "python",
   "name": "python3"
  },
  "language_info": {
   "codemirror_mode": {
    "name": "ipython",
    "version": 3
   },
   "file_extension": ".py",
   "mimetype": "text/x-python",
   "name": "python",
   "nbconvert_exporter": "python",
   "pygments_lexer": "ipython3",
   "version": "3.10.7"
  }
 },
 "nbformat": 4,
 "nbformat_minor": 1
}
