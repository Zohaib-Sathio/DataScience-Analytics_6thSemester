{
 "cells": [
  {
   "cell_type": "markdown",
   "metadata": {
    "colab_type": "text",
    "id": "view-in-github"
   },
   "source": [
    "<a href=\"https://colab.research.google.com/github/farhannaliarain/DataScience/blob/main/Lab_04_20SW072.ipynb\" target=\"_parent\"><img src=\"https://colab.research.google.com/assets/colab-badge.svg\" alt=\"Open In Colab\"/></a>"
   ]
  },
  {
   "cell_type": "markdown",
   "metadata": {
    "id": "Xy078Yml3kxr"
   },
   "source": [
    "LAB : 04\n",
    "o\tHow to import NumPy\n",
    "\n",
    "o\tHow to create multidimensional NumPy ndarrays using various methods\n",
    "\n",
    "o\tHow to access and change elements in ndarrays\n",
    "\n",
    "o\tHow to load and save ndarrays\n",
    "\n",
    "o\tHow to use slicing to select or change subsets of an ndarray\n",
    "\n",
    "o\tUnderstand the difference between a view and a copy an of ndarray\n",
    "\n",
    "o\tHow to use Boolean indexing and set operations to select or change subsets of an ndarray\n",
    "\n",
    "o\tHow to sort ndarrays\n",
    "\n",
    "o\tHow to perform element-wise operations on ndarrays\n",
    "\n",
    "o\tUnderstand how NumPy uses broadcasting to perform operations on ndarrays of different sizes.\n",
    "\n",
    "Roll no : 20SW036\n",
    "Name: Zohaib Sathio\n",
    "\n",
    "Section : 2\n",
    "\n",
    "Task#01\n",
    "\n"
   ]
  },
  {
   "cell_type": "code",
   "execution_count": 1,
   "metadata": {
    "colab": {
     "base_uri": "https://localhost:8080/"
    },
    "id": "-1EEI2lQ4OAP",
    "outputId": "5a3b6b7f-0772-43ab-fd91-efaea68a88a5"
   },
   "outputs": [
    {
     "name": "stdout",
     "output_type": "stream",
     "text": [
      "[[ 2  4  6  8]\n",
      " [10 12 14 16]\n",
      " [18 20 22 24]\n",
      " [26 28 30 32]]\n"
     ]
    }
   ],
   "source": [
    "import numpy as np\n",
    "\n",
    "# Generate an array of even numbers from 2 to 32 (inclusive)\n",
    "even_numbers = np.arange(2, 33, 2)\n",
    "\n",
    "# Reshape the array into a 4x4 ndarray\n",
    "X = even_numbers.reshape(4, 4)\n",
    "\n",
    "print(X)"
   ]
  },
  {
   "cell_type": "markdown",
   "metadata": {
    "id": "Kkl_Iy9q4YmK"
   },
   "source": [
    "Task#02"
   ]
  },
  {
   "cell_type": "code",
   "execution_count": 2,
   "metadata": {
    "colab": {
     "base_uri": "https://localhost:8080/"
    },
    "id": "G1q01xX54bAV",
    "outputId": "1b2ba8de-eac8-4fe5-c2ab-fa3fa9ccd83f"
   },
   "outputs": [
    {
     "name": "stdout",
     "output_type": "stream",
     "text": [
      "Original array X:\n",
      " [[ 1  2  3  4  5]\n",
      " [ 6  7  8  9 10]\n",
      " [11 12 13 14 15]\n",
      " [16 17 18 19 20]\n",
      " [21 22 23 24 25]]\n",
      "\n",
      "Array Y with odd numbers:\n",
      " [ 1  3  5  7  9 11 13 15 17 19 21 23 25]\n"
     ]
    }
   ],
   "source": [
    "import numpy as np\n",
    "\n",
    "# Create a 5 x 5 ndarray with consecutive integers from 1 to 25 (inclusive).\n",
    "X = np.arange(1, 26).reshape(5, 5)\n",
    "\n",
    "# Use Boolean indexing to pick out only the odd numbers in the array\n",
    "Y = X[X % 2 == 1]\n",
    "\n",
    "print(\"Original array X:\\n\", X)\n",
    "print(\"\\nArray Y with odd numbers:\\n\", Y)"
   ]
  },
  {
   "cell_type": "markdown",
   "metadata": {
    "id": "JkYVZ22c4u2d"
   },
   "source": [
    "Task#03"
   ]
  },
  {
   "cell_type": "code",
   "execution_count": 3,
   "metadata": {
    "colab": {
     "base_uri": "https://localhost:8080/"
    },
    "id": "uhW-33mX4xDg",
    "outputId": "b3a82fea-4f8d-4b7f-91d6-2419dc34c6d3"
   },
   "outputs": [
    {
     "name": "stdout",
     "output_type": "stream",
     "text": [
      "[[1. 1. 1. 1.]\n",
      " [2. 2. 2. 2.]\n",
      " [3. 3. 3. 3.]\n",
      " [4. 4. 4. 4.]]\n"
     ]
    }
   ],
   "source": [
    "import numpy as np\n",
    "\n",
    "# Create a 4 x 4 ndarray with columns filled with increasing values\n",
    "# using broadcasting\n",
    "X = np.arange(1, 5)[:, np.newaxis] * np.ones((4, 4))\n",
    "\n",
    "print(X)"
   ]
  },
  {
   "cell_type": "markdown",
   "metadata": {
    "id": "kMl3vCOS75-0"
   },
   "source": [
    "Task#04"
   ]
  },
  {
   "cell_type": "code",
   "execution_count": 4,
   "metadata": {
    "colab": {
     "base_uri": "https://localhost:8080/"
    },
    "id": "jeE2kwvf79NU",
    "outputId": "ca51e723-fe6d-4198-864b-1a2354a61eae"
   },
   "outputs": [
    {
     "name": "stdout",
     "output_type": "stream",
     "text": [
      "Shape of X_train: (700, 20)\n",
      "Shape of X_crossVal: (150, 20)\n",
      "Shape of X_test: (150, 20)\n"
     ]
    }
   ],
   "source": [
    "import numpy as np\n",
    "\n",
    "# Create a random permutation of integers 0 to 4\n",
    "permuted_indices = np.random.permutation(5)\n",
    "\n",
    "# Create a 1000 x 20 ndarray with random integers in the half-open interval [0, 5001).\n",
    "X = np.random.randint(0, 5001, size=(1000, 20))\n",
    "\n",
    "# Create a rank 1 ndarray that contains a random permutation of the row indices of `X`\n",
    "row_indices = np.random.permutation(X.shape[0])\n",
    "\n",
    "# Make any necessary calculations.\n",
    "# You can save your calculations into variables to use later.\n",
    "\n",
    "# Create a Training Set\n",
    "X_train = X[row_indices[:700], :]\n",
    "\n",
    "# Create a Cross Validation Set\n",
    "X_crossVal = X[row_indices[700:850], :]\n",
    "\n",
    "# Create a Test Set\n",
    "X_test = X[row_indices[850:], :]\n",
    "\n",
    "# Print the shape of X_train\n",
    "print(\"Shape of X_train:\", X_train.shape)\n",
    "\n",
    "# Print the shape of X_crossVal\n",
    "print(\"Shape of X_crossVal:\", X_crossVal.shape)\n",
    "\n",
    "# Print the shape of X_test\n",
    "print(\"Shape of X_test:\", X_test.shape)\n"
   ]
  },
  {
   "cell_type": "markdown",
   "metadata": {
    "id": "PN5AbmJu880B"
   },
   "source": [
    "Task#05\n"
   ]
  },
  {
   "cell_type": "code",
   "execution_count": 5,
   "metadata": {
    "colab": {
     "base_uri": "https://localhost:8080/"
    },
    "id": "NRr2yo2r8_4L",
    "outputId": "d82f1f2b-ff29-4036-f4c7-13aa647bd74a"
   },
   "outputs": [
    {
     "name": "stdout",
     "output_type": "stream",
     "text": [
      "Shape of X: (1000, 20)\n",
      "Shape of ave_cols: (20,)\n",
      "Shape of std_cols: (20,)\n",
      "Average of all values in X_norm: 8.881784197001253e-18\n",
      "Average of minimum values in each column of X_norm: -1.7304150331326518\n",
      "Average of maximum values in each column of X_norm: 1.7235086051290218\n"
     ]
    }
   ],
   "source": [
    "import numpy as np\n",
    "\n",
    "# Create a 1000 x 20 ndarray with random integers in the half-open interval [0, 5001).\n",
    "X = np.random.randint(0, 5001, size=(1000, 20))\n",
    "\n",
    "# Print the shape of X\n",
    "print(\"Shape of X:\", X.shape)\n",
    "\n",
    "# Average of the values in each column of X\n",
    "ave_cols = np.mean(X, axis=0)\n",
    "\n",
    "# Standard Deviation of the values in each column of X\n",
    "std_cols = np.std(X, axis=0)\n",
    "\n",
    "# Print the shape of ave_cols\n",
    "print(\"Shape of ave_cols:\", ave_cols.shape)\n",
    "\n",
    "# Print the shape of std_cols\n",
    "print(\"Shape of std_cols:\", std_cols.shape)\n",
    "\n",
    "# Mean normalize X\n",
    "X_norm = (X - np.mean(X, axis=0)) / np.std(X, axis=0)\n",
    "\n",
    "# Print the average of all the values of X_norm\n",
    "print(\"Average of all values in X_norm:\", np.mean(X_norm))\n",
    "\n",
    "# Print the average of the minimum value in each column of X_norm\n",
    "print(\"Average of minimum values in each column of X_norm:\", np.mean(np.min(X_norm, axis=0)))\n",
    "\n",
    "# Print the average of the maximum value in each column of X_norm\n",
    "print(\"Average of maximum values in each column of X_norm:\", np.mean(np.max(X_norm, axis=0)))\n"
   ]
  },
  {
   "cell_type": "code",
   "execution_count": null,
   "metadata": {},
   "outputs": [],
   "source": []
  },
  {
   "cell_type": "code",
   "execution_count": null,
   "metadata": {},
   "outputs": [],
   "source": []
  }
 ],
 "metadata": {
  "colab": {
   "authorship_tag": "ABX9TyPFvz5t4I/nsCb+d5MufHAq",
   "include_colab_link": true,
   "provenance": []
  },
  "kernelspec": {
   "display_name": "Python 3 (ipykernel)",
   "language": "python",
   "name": "python3"
  },
  "language_info": {
   "codemirror_mode": {
    "name": "ipython",
    "version": 3
   },
   "file_extension": ".py",
   "mimetype": "text/x-python",
   "name": "python",
   "nbconvert_exporter": "python",
   "pygments_lexer": "ipython3",
   "version": "3.10.7"
  }
 },
 "nbformat": 4,
 "nbformat_minor": 1
}
