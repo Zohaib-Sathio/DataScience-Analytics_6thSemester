{
  "nbformat": 4,
  "nbformat_minor": 0,
  "metadata": {
    "colab": {
      "provenance": [],
      "collapsed_sections": [
        "1S-nZDBlIFis",
        "7FhAHaOkJJVT",
        "MiUcebdwJWhT",
        "PL03unEeJbHS",
        "a5D1xpNkJd8X"
      ],
      "authorship_tag": "ABX9TyNql1DMWGwoaFqgFHO7vwTI",
      "include_colab_link": true
    },
    "kernelspec": {
      "name": "python3",
      "display_name": "Python 3"
    },
    "language_info": {
      "name": "python"
    }
  },
  "cells": [
    {
      "cell_type": "markdown",
      "metadata": {
        "id": "view-in-github",
        "colab_type": "text"
      },
      "source": [
        "<a href=\"https://colab.research.google.com/github/Zohaib-Sathio/DataScience-Analytics_6thSemester/blob/main/Lab_01_20SW036_DSA.ipynb\" target=\"_parent\"><img src=\"https://colab.research.google.com/assets/colab-badge.svg\" alt=\"Open In Colab\"/></a>"
      ]
    },
    {
      "cell_type": "markdown",
      "source": [
        "# Task 1"
      ],
      "metadata": {
        "id": "1S-nZDBlIFis"
      }
    },
    {
      "cell_type": "code",
      "execution_count": 7,
      "metadata": {
        "colab": {
          "base_uri": "https://localhost:8080/"
        },
        "id": "9fB80H77GZyo",
        "outputId": "ba4d6e4a-fe60-49d6-c386-95f0e23b8e02"
      },
      "outputs": [
        {
          "output_type": "stream",
          "name": "stdout",
          "text": [
            "My name is Zohaib, I'm 6\n"
          ]
        }
      ],
      "source": [
        "name = 'Zohaib'\n",
        "sem = 6\n",
        "\n",
        "print(\"My name is {}, I'm {}\".format(name,sem))"
      ]
    },
    {
      "cell_type": "markdown",
      "source": [
        "# Task 2"
      ],
      "metadata": {
        "id": "7FhAHaOkJJVT"
      }
    },
    {
      "cell_type": "code",
      "source": [
        "name = 'zohaib'\n",
        "#capitalization\n",
        "print(str.capitalize(name))"
      ],
      "metadata": {
        "colab": {
          "base_uri": "https://localhost:8080/"
        },
        "id": "ffHIUBvLImtf",
        "outputId": "dda4bc51-9acb-4193-e3d1-2c0eb071282a"
      },
      "execution_count": 18,
      "outputs": [
        {
          "output_type": "stream",
          "name": "stdout",
          "text": [
            "Zohaib\n"
          ]
        }
      ]
    },
    {
      "cell_type": "code",
      "source": [
        "print(str.casefold(name))"
      ],
      "metadata": {
        "colab": {
          "base_uri": "https://localhost:8080/"
        },
        "id": "ZISoUNQhJSbb",
        "outputId": "485fcbab-a4d0-49a3-e759-daf77ffc4836"
      },
      "execution_count": 14,
      "outputs": [
        {
          "output_type": "stream",
          "name": "stdout",
          "text": [
            "zohaib\n"
          ]
        }
      ]
    },
    {
      "cell_type": "code",
      "source": [
        "#encoding\n",
        "name.encode(encoding='utf-16', errors='strict')"
      ],
      "metadata": {
        "colab": {
          "base_uri": "https://localhost:8080/"
        },
        "id": "MXiYss59J6fr",
        "outputId": "c830252b-63e1-4ff5-9e1a-8932838033c3"
      },
      "execution_count": 17,
      "outputs": [
        {
          "output_type": "execute_result",
          "data": {
            "text/plain": [
              "b'\\xff\\xfez\\x00o\\x00h\\x00a\\x00i\\x00b\\x00'"
            ]
          },
          "metadata": {},
          "execution_count": 17
        }
      ]
    },
    {
      "cell_type": "code",
      "source": [
        "#centering the string\n",
        "name.center(40, '.')"
      ],
      "metadata": {
        "colab": {
          "base_uri": "https://localhost:8080/",
          "height": 35
        },
        "id": "9YXxlfhyKV5D",
        "outputId": "e0425261-0ba1-474f-f3a7-2a081f3c5a7e"
      },
      "execution_count": 19,
      "outputs": [
        {
          "output_type": "execute_result",
          "data": {
            "text/plain": [
              "'.................zohaib.................'"
            ],
            "application/vnd.google.colaboratory.intrinsic+json": {
              "type": "string"
            }
          },
          "metadata": {},
          "execution_count": 19
        }
      ]
    },
    {
      "cell_type": "code",
      "source": [
        "#count sub string\n",
        "name.count(\"i\", 0, len(name))"
      ],
      "metadata": {
        "colab": {
          "base_uri": "https://localhost:8080/"
        },
        "id": "0FZH8IDoLSWz",
        "outputId": "631ecaf8-8e98-4c8f-89fe-1d4e8826e40e"
      },
      "execution_count": 20,
      "outputs": [
        {
          "output_type": "execute_result",
          "data": {
            "text/plain": [
              "1"
            ]
          },
          "metadata": {},
          "execution_count": 20
        }
      ]
    },
    {
      "cell_type": "code",
      "source": [
        "name.islower()"
      ],
      "metadata": {
        "colab": {
          "base_uri": "https://localhost:8080/"
        },
        "id": "xJBJ55dXL_DJ",
        "outputId": "4ccb8168-5d61-411a-8e05-e6291a863559"
      },
      "execution_count": 21,
      "outputs": [
        {
          "output_type": "execute_result",
          "data": {
            "text/plain": [
              "True"
            ]
          },
          "metadata": {},
          "execution_count": 21
        }
      ]
    },
    {
      "cell_type": "markdown",
      "source": [
        "# Task 3"
      ],
      "metadata": {
        "id": "MiUcebdwJWhT"
      }
    },
    {
      "cell_type": "code",
      "source": [
        "month = 8 # August\n",
        "days_in_month = [31,28,31,30,31,30,31,31,30,31,30,31]\n",
        "\n",
        "# use list indexing to determine the number of days in month\n",
        "num_days = days_in_month[month+1]\n",
        "print(num_days)"
      ],
      "metadata": {
        "colab": {
          "base_uri": "https://localhost:8080/"
        },
        "id": "jrV6e-wYJZhT",
        "outputId": "dd6926ef-9ded-4da3-9eb2-954ba5e46630"
      },
      "execution_count": 26,
      "outputs": [
        {
          "output_type": "stream",
          "name": "stdout",
          "text": [
            "31\n"
          ]
        }
      ]
    },
    {
      "cell_type": "code",
      "source": [
        "month = 1 # January\n",
        "num_days = days_in_month[month-1]\n",
        "print(num_days)"
      ],
      "metadata": {
        "colab": {
          "base_uri": "https://localhost:8080/"
        },
        "id": "OB-GjT8WMmQ_",
        "outputId": "d35ca3f4-62e2-4006-face-73a08b2b2e32"
      },
      "execution_count": 27,
      "outputs": [
        {
          "output_type": "stream",
          "name": "stdout",
          "text": [
            "31\n"
          ]
        }
      ]
    },
    {
      "cell_type": "code",
      "source": [
        "month = 2 # Febuary\n",
        "num_days = days_in_month[month-1]\n",
        "print(num_days)"
      ],
      "metadata": {
        "colab": {
          "base_uri": "https://localhost:8080/"
        },
        "id": "_5_4FQd-Mp3E",
        "outputId": "7295b6d6-0b9f-4ddd-af71-b81af30e02b9"
      },
      "execution_count": 28,
      "outputs": [
        {
          "output_type": "stream",
          "name": "stdout",
          "text": [
            "28\n"
          ]
        }
      ]
    },
    {
      "cell_type": "markdown",
      "source": [
        "# Task 4"
      ],
      "metadata": {
        "id": "PL03unEeJbHS"
      }
    },
    {
      "cell_type": "code",
      "source": [
        "eclipse_dates = ['June 21, 2001', 'December 4, 2002', 'November 23, 2003','March 29, 2006', 'August 1, 2008', 'July 22, 2009','July 11, 2010', 'November 13, 2012', 'March 20, 2015','March 9, 2016']\n",
        "\n",
        "# TODO: Modify this line so it prints the last three elements of the list\n",
        "\n",
        "print(eclipse_dates[-3:])"
      ],
      "metadata": {
        "colab": {
          "base_uri": "https://localhost:8080/"
        },
        "id": "586Zh0HXNiO8",
        "outputId": "342dbed0-048f-4dbd-d0af-53188451fe98"
      },
      "execution_count": 30,
      "outputs": [
        {
          "output_type": "stream",
          "name": "stdout",
          "text": [
            "['November 13, 2012', 'March 20, 2015', 'March 9, 2016']\n"
          ]
        }
      ]
    },
    {
      "cell_type": "markdown",
      "source": [
        "# Task 5"
      ],
      "metadata": {
        "id": "a5D1xpNkJd8X"
      }
    },
    {
      "cell_type": "code",
      "source": [
        "person = {'student' : {\"name\" : \"Zohaib\", \"dept\" : \"SWE\", \"hobby\" : \"Programming\"},\n",
        "          'info' : {\"gender\" : \"Male\", \"age\": 10}}"
      ],
      "metadata": {
        "id": "GTkvB4WKJf_j"
      },
      "execution_count": 31,
      "outputs": []
    },
    {
      "cell_type": "code",
      "source": [
        "person['student']"
      ],
      "metadata": {
        "colab": {
          "base_uri": "https://localhost:8080/"
        },
        "id": "NMBAlNIMOHwk",
        "outputId": "213ef364-34dc-4fc5-9a46-471c3f9695d4"
      },
      "execution_count": 32,
      "outputs": [
        {
          "output_type": "execute_result",
          "data": {
            "text/plain": [
              "{'name': 'Zohaib', 'dept': 'SWE', 'hobby': 'Programming'}"
            ]
          },
          "metadata": {},
          "execution_count": 32
        }
      ]
    },
    {
      "cell_type": "code",
      "source": [
        "person['student']['name']"
      ],
      "metadata": {
        "colab": {
          "base_uri": "https://localhost:8080/",
          "height": 35
        },
        "id": "wsCD0b2FOJOZ",
        "outputId": "b5cf9a41-ec3d-4c7a-a767-1b948ae4ee2d"
      },
      "execution_count": 33,
      "outputs": [
        {
          "output_type": "execute_result",
          "data": {
            "text/plain": [
              "'Zohaib'"
            ],
            "application/vnd.google.colaboratory.intrinsic+json": {
              "type": "string"
            }
          },
          "metadata": {},
          "execution_count": 33
        }
      ]
    },
    {
      "cell_type": "code",
      "source": [
        "person['info']['age']"
      ],
      "metadata": {
        "colab": {
          "base_uri": "https://localhost:8080/"
        },
        "id": "f0dzvVcgOLyy",
        "outputId": "dc16fc41-9076-4eaa-cc47-fe051f7d8944"
      },
      "execution_count": 35,
      "outputs": [
        {
          "output_type": "execute_result",
          "data": {
            "text/plain": [
              "10"
            ]
          },
          "metadata": {},
          "execution_count": 35
        }
      ]
    },
    {
      "cell_type": "code",
      "source": [],
      "metadata": {
        "id": "Dx5xcGzxOOOX"
      },
      "execution_count": null,
      "outputs": []
    }
  ]
}